{
  "nbformat": 4,
  "nbformat_minor": 0,
  "metadata": {
    "colab": {
      "provenance": []
    },
    "kernelspec": {
      "name": "python3",
      "display_name": "Python 3"
    },
    "language_info": {
      "name": "python"
    }
  },
  "cells": [
    {
      "cell_type": "code",
      "execution_count": null,
      "metadata": {
        "id": "SIPMfiaNPOQ1"
      },
      "outputs": [],
      "source": []
    },
    {
      "cell_type": "markdown",
      "source": [],
      "metadata": {
        "id": "jZKt-Yt9P9E_"
      }
    },
    {
      "cell_type": "code",
      "source": [],
      "metadata": {
        "id": "JtkWG8fLP9yT"
      },
      "execution_count": null,
      "outputs": []
    },
    {
      "cell_type": "markdown",
      "source": [],
      "metadata": {
        "id": "kDEmWPtNP-ne"
      }
    },
    {
      "cell_type": "markdown",
      "source": [],
      "metadata": {
        "id": "0_P83-R-QAyI"
      }
    },
    {
      "cell_type": "markdown",
      "source": [
        " jltmmhkt"
      ],
      "metadata": {
        "id": "ai-I4YwAQKmK"
      }
    }
  ]
}